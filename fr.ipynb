{
  "cells": [
    {
      "cell_type": "markdown",
      "metadata": {
        "id": "view-in-github",
        "colab_type": "text"
      },
      "source": [
        "<a href=\"https://colab.research.google.com/github/azario0/tiktaktoe-llm/blob/main/fr.ipynb\" target=\"_parent\"><img src=\"https://colab.research.google.com/assets/colab-badge.svg\" alt=\"Open In Colab\"/></a>"
      ]
    },
    {
      "cell_type": "markdown",
      "metadata": {
        "id": "6cx_EBhc88I8"
      },
      "source": [
        "# Importe les bibliothèques nécessaires : <br>\n",
        "google.generativeai pour les interactions avec l'IA et random pour les mouvements aléatoires.<br>\n",
        "Configure le modèle d'IA en utilisant une clé API et sélectionne le modèle 'models/gemini-2.0-flash-exp'."
      ]
    },
    {
      "cell_type": "code",
      "execution_count": null,
      "metadata": {
        "id": "_3nDsoX488JF"
      },
      "outputs": [],
      "source": [
        "import google.generativeai as genai\n",
        "import random\n",
        "\n",
        "# Configuration de Gemini AI\n",
        "genai.configure(api_key='YOUR_API_KEY')\n",
        "model = genai.GenerativeModel('models/gemini-2.0-flash-exp')\n"
      ]
    },
    {
      "cell_type": "markdown",
      "metadata": {
        "id": "lPFD94K_88JI"
      },
      "source": [
        "# Définit une fonction pour afficher l'état actuel <br>du tableau de Tic-Tac-Toe.\n",
        "\n",
        "Imprime le tableau dans un format lisible avec des séparateurs."
      ]
    },
    {
      "cell_type": "code",
      "execution_count": null,
      "metadata": {
        "id": "_NWYQQnV88JJ"
      },
      "outputs": [],
      "source": [
        "def print_board(board):\n",
        "    \"\"\"Affiche le tableau de Tic-Tac-Toe.\"\"\"\n",
        "    print(\"\\n\")\n",
        "    for i, row in enumerate(board):\n",
        "        print(\" | \".join(row))\n",
        "        if i < 2:\n",
        "            print(\"---------\")"
      ]
    },
    {
      "cell_type": "markdown",
      "metadata": {
        "id": "8DN7XHNL88JM"
      },
      "source": [
        "# Vérifie si le joueur spécifié a gagné la partie.\n",
        "\n",
        "Vérifie toutes les combinaisons gagnantes possibles : lignes, colonnes et diagonales."
      ]
    },
    {
      "cell_type": "code",
      "execution_count": null,
      "metadata": {
        "id": "3nkARt9l88JN"
      },
      "outputs": [],
      "source": [
        "def is_winner(board, player):\n",
        "    \"\"\"Vérifie si le joueur donné a gagné la partie.\"\"\"\n",
        "    # Check rows\n",
        "    for row in board:\n",
        "        if all(cell == player for cell in row):\n",
        "            return True\n",
        "\n",
        "    # Check columns\n",
        "    for col in range(3):\n",
        "        if all(board[row][col] == player for row in range(3)):\n",
        "            return True\n",
        "\n",
        "    # Check diagonals\n",
        "    if all(board[i][i] == player for i in range(3)) or \\\n",
        "       all(board[i][2-i] == player for i in range(3)):\n",
        "        return True\n",
        "\n",
        "    return False"
      ]
    },
    {
      "cell_type": "markdown",
      "metadata": {
        "id": "L03ZW3Fd88JO"
      },
      "source": [
        "# Détermine si la partie s'est terminée par une égalité.\n",
        "Vérifie si toutes les cellules du tableau sont remplies sans vainqueur."
      ]
    },
    {
      "cell_type": "code",
      "execution_count": null,
      "metadata": {
        "id": "vidxL41T88JO"
      },
      "outputs": [],
      "source": [
        "def is_draw(board):\n",
        "    \"\"\"Vérifie si la partie est un match nul.\"\"\"\n",
        "    return all(cell != \" \" for row in board for cell in row)"
      ]
    },
    {
      "cell_type": "markdown",
      "metadata": {
        "id": "MOzPp23f88JQ"
      },
      "source": [
        "# Gère l'entrée du joueur pour son mouvement.\n",
        "\n",
        "Assure que le mouvement est valide (compris entre 1-9 et la cellule sélectionnée est vide).\n",
        "\n",
        "Met à jour le tableau avec le mouvement du joueur."
      ]
    },
    {
      "cell_type": "code",
      "execution_count": null,
      "metadata": {
        "id": "wFXJ8-jF88JQ"
      },
      "outputs": [],
      "source": [
        "def get_player_input(board, player):\n",
        "    \"\"\"Obtient le mouvement du joueur et met à jour le tableau.\"\"\"\n",
        "    while True:\n",
        "        try:\n",
        "            print(\"\\nBoard positions:\")\n",
        "            print(\"1 | 2 | 3\\n---------\\n4 | 5 | 6\\n---------\\n7 | 8 | 9\")\n",
        "            move = int(input(f\"\\nPlayer {player}, enter your move (1-9): \")) - 1\n",
        "            row, col = divmod(move, 3)\n",
        "            if 0 <= move < 9 and board[row][col] == \" \":\n",
        "                board[row][col] = player\n",
        "                return\n",
        "            else:\n",
        "                print(\"Invalid move. That position is already taken or out of range.\")\n",
        "        except ValueError:\n",
        "            print(\"Please enter a valid number between 1 and 9.\")"
      ]
    },
    {
      "cell_type": "markdown",
      "metadata": {
        "id": "uXHICuRT88JR"
      },
      "source": [
        "# Implémente le processus de décision <br>de l'IA pour son mouvement.\n",
        "\n",
        "Utilise le modèle d'IA Gemini pour générer un mouvement en fonction de l'état actuel du tableau.\n",
        "\n",
        "Si la réponse de l'IA est invalide, sélectionne un mouvement aléatoire disponible."
      ]
    },
    {
      "cell_type": "code",
      "execution_count": null,
      "metadata": {
        "id": "MfJOdUA088JS"
      },
      "outputs": [],
      "source": [
        "def get_ai_move(board):\n",
        "    \"\"\"Obtient le mouvement de l'IA en utilisant le modèle Gemini.\"\"\"\n",
        "    # First, check if AI can win in the next move\n",
        "    for i in range(9):\n",
        "        row, col = divmod(i, 3)\n",
        "        if board[row][col] == \" \":\n",
        "            board[row][col] = \"O\"\n",
        "            if is_winner(board, \"O\"):\n",
        "                print(f\"AI chooses move {i + 1}\")\n",
        "                return\n",
        "            board[row][col] = \" \"  # Undo the move\n",
        "\n",
        "    # Then, block player's winning move\n",
        "    for i in range(9):\n",
        "        row, col = divmod(i, 3)\n",
        "        if board[row][col] == \" \":\n",
        "            board[row][col] = \"X\"\n",
        "            if is_winner(board, \"X\"):\n",
        "                board[row][col] = \"O\"\n",
        "                print(f\"AI chooses move {i + 1}\")\n",
        "                return\n",
        "            board[row][col] = \" \"  # Undo the move\n",
        "\n",
        "    # Try to get a response from Gemini AI\n",
        "    board_str = \"\\n\".join([\" | \".join(row) for row in board])\n",
        "    prompt = f\"\"\"\n",
        "    You are playing Tic-Tac-Toe.\n",
        "    Choose an available move from 1-9 (respond with just the number).\n",
        "    Current board:\n",
        "    {board_str}\n",
        "    Board positions:\n",
        "    1 | 2 | 3\n",
        "    ---------\n",
        "    4 | 5 | 6\n",
        "    ---------\n",
        "    7 | 8 | 9\n",
        "    \"\"\"\n",
        "\n",
        "    try:\n",
        "        response = model.generate_content(prompt)\n",
        "        move = int(response.text.strip())\n",
        "        row, col = divmod(move - 1, 3)\n",
        "        if 0 <= move-1 < 9 and board[row][col] == \" \":\n",
        "            board[row][col] = \"O\"\n",
        "            print(f\"AI chooses move {move}\")\n",
        "            return\n",
        "    except:\n",
        "        pass\n",
        "\n",
        "    # Fallback strategy: prefer center, then corners, then sides\n",
        "    preferred_moves = [4, 0, 2, 6, 8, 1, 3, 5, 7]  # Center, corners, sides\n",
        "    for move in preferred_moves:\n",
        "        row, col = divmod(move, 3)\n",
        "        if board[row][col] == \" \":\n",
        "            board[row][col] = \"O\"\n",
        "            print(f\"AI chooses move {move + 1}\")\n",
        "            return"
      ]
    },
    {
      "cell_type": "markdown",
      "metadata": {
        "id": "oYhrUdc588JT"
      },
      "source": [
        "# Contient la boucle principale du jeu pour jouer <br>au Tic-Tac-Toe contre l'IA.\n",
        "\n",
        "Initialise le tableau de jeu et alterne les tours entre le joueur et l'IA.\n",
        "\n",
        "Vérifie un gagnant ou une égalité après chaque mouvement et déclare le résultat en conséquence."
      ]
    },
    {
      "cell_type": "code",
      "execution_count": null,
      "metadata": {
        "id": "JeK7ZNJt88JV"
      },
      "outputs": [],
      "source": [
        "def play_tic_tac_toe():\n",
        "    \"\"\"Boucle principale du jeu pour le Tic-Tac-Toe contre l'IA.\"\"\"\n",
        "    board = [[\" \" for _ in range(3)] for _ in range(3)]\n",
        "    current_player = \"X\"\n",
        "\n",
        "    print(\"\\nWelcome to Tic-Tac-Toe!\")\n",
        "    print(\"You are X, the AI is O.\")\n",
        "\n",
        "    while True:\n",
        "        print_board(board)\n",
        "\n",
        "        if current_player == \"X\":\n",
        "            get_player_input(board, current_player)\n",
        "        else:\n",
        "            get_ai_move(board)\n",
        "\n",
        "        if is_winner(board, current_player):\n",
        "            print_board(board)\n",
        "            print(f\"\\n{'You' if current_player == 'X' else 'AI'} win! Congratulations!\")\n",
        "            break\n",
        "\n",
        "        if is_draw(board):\n",
        "            print_board(board)\n",
        "            print(\"\\nIt's a draw! Well played!\")\n",
        "            break\n",
        "\n",
        "        current_player = \"O\" if current_player == \"X\" else \"X\""
      ]
    },
    {
      "cell_type": "markdown",
      "metadata": {
        "id": "jbH7XwXj88JW"
      },
      "source": [
        "# Démarre la partie de Tic-Tac-Toe en appelant <br>la fonction play_tic_tac_toe().\n",
        "\n",
        "Affiche le déroulement de la partie et les résultats dans la console."
      ]
    },
    {
      "cell_type": "code",
      "execution_count": null,
      "metadata": {
        "id": "LNTOO5sx88JW"
      },
      "outputs": [],
      "source": [
        "play_tic_tac_toe()"
      ]
    }
  ],
  "metadata": {
    "kernelspec": {
      "display_name": "Python 3",
      "language": "python",
      "name": "python3"
    },
    "language_info": {
      "codemirror_mode": {
        "name": "ipython",
        "version": 3
      },
      "file_extension": ".py",
      "mimetype": "text/x-python",
      "name": "python",
      "nbconvert_exporter": "python",
      "pygments_lexer": "ipython3",
      "version": "3.10.12"
    },
    "colab": {
      "provenance": [],
      "include_colab_link": true
    }
  },
  "nbformat": 4,
  "nbformat_minor": 0
}