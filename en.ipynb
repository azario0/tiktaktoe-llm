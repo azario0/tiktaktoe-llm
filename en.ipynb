{
  "cells": [
    {
      "cell_type": "markdown",
      "metadata": {
        "id": "view-in-github",
        "colab_type": "text"
      },
      "source": [
        "<a href=\"https://colab.research.google.com/github/azario0/tiktaktoe-llm/blob/main/en.ipynb\" target=\"_parent\"><img src=\"https://colab.research.google.com/assets/colab-badge.svg\" alt=\"Open In Colab\"/></a>"
      ]
    },
    {
      "cell_type": "markdown",
      "metadata": {
        "id": "cyEr6AtE0huu"
      },
      "source": [
        "# Imports necessary libraries: <br>\n",
        "google.generativeai for AI interactions and random for random moves.<br>\n",
        "Configures the AI model using an API key and selects the model 'models/gemini-2.0-flash-exp'."
      ]
    },
    {
      "cell_type": "code",
      "execution_count": 1,
      "metadata": {
        "id": "FIwTmR4J0huw"
      },
      "outputs": [],
      "source": [
        "import google.generativeai as genai\n",
        "import random\n",
        "\n",
        "# Configure Gemini AI\n",
        "genai.configure(api_key='YOUR_API_KEY')\n",
        "model = genai.GenerativeModel('models/gemini-2.0-flash-exp')\n"
      ]
    },
    {
      "cell_type": "markdown",
      "metadata": {
        "id": "n-OFrUgD0huy"
      },
      "source": [
        "# Defines a function to display the current <br>state of the Tic-Tac-Toe board.\n",
        "\n",
        "Prints the board in a readable format with separators."
      ]
    },
    {
      "cell_type": "code",
      "execution_count": 2,
      "metadata": {
        "id": "f4-JeHfm0huy"
      },
      "outputs": [],
      "source": [
        "def print_board(board):\n",
        "    \"\"\"Displays the Tic-Tac-Toe board.\"\"\"\n",
        "    print(\"\\n\")\n",
        "    for i, row in enumerate(board):\n",
        "        print(\" | \".join(row))\n",
        "        if i < 2:\n",
        "            print(\"---------\")"
      ]
    },
    {
      "cell_type": "markdown",
      "metadata": {
        "id": "5p66paV_0huz"
      },
      "source": [
        "# Checks if the specified player has won the game.\n",
        "\n",
        "Verifies all possible winning combinations: rows, columns, and diagonals."
      ]
    },
    {
      "cell_type": "code",
      "execution_count": 3,
      "metadata": {
        "id": "Ok01tYCU0huz"
      },
      "outputs": [],
      "source": [
        "def is_winner(board, player):\n",
        "    \"\"\"Checks if the given player has won the game.\"\"\"\n",
        "    # Check rows\n",
        "    for row in board:\n",
        "        if all(cell == player for cell in row):\n",
        "            return True\n",
        "\n",
        "    # Check columns\n",
        "    for col in range(3):\n",
        "        if all(board[row][col] == player for row in range(3)):\n",
        "            return True\n",
        "\n",
        "    # Check diagonals\n",
        "    if all(board[i][i] == player for i in range(3)) or \\\n",
        "       all(board[i][2-i] == player for i in range(3)):\n",
        "        return True\n",
        "\n",
        "    return False\n"
      ]
    },
    {
      "cell_type": "markdown",
      "metadata": {
        "id": "zd1oYl9U0hu0"
      },
      "source": [
        "# Determines if the game has ended in a draw.\n",
        "Checks if all cells on the board are filled without a winner."
      ]
    },
    {
      "cell_type": "code",
      "execution_count": 4,
      "metadata": {
        "id": "yjWVziDE0hu0"
      },
      "outputs": [],
      "source": [
        "def is_draw(board):\n",
        "    \"\"\"Checks if the game is a draw.\"\"\"\n",
        "    return all(cell != \" \" for row in board for cell in row)"
      ]
    },
    {
      "cell_type": "markdown",
      "metadata": {
        "id": "YKQ7WI7k0hu1"
      },
      "source": [
        "# Handles the player's input for their move.\n",
        "\n",
        "Ensures the move is valid (within 1-9 and the selected cell is empty).\n",
        "\n",
        "Updates the board with the player's move."
      ]
    },
    {
      "cell_type": "code",
      "execution_count": 5,
      "metadata": {
        "id": "Sl7ARqgQ0hu3"
      },
      "outputs": [],
      "source": [
        "def get_player_input(board, player):\n",
        "    \"\"\"Gets the player's move and updates the board.\"\"\"\n",
        "    while True:\n",
        "        try:\n",
        "            print(\"\\nBoard positions:\")\n",
        "            print(\"1 | 2 | 3\\n---------\\n4 | 5 | 6\\n---------\\n7 | 8 | 9\")\n",
        "            move = int(input(f\"\\nPlayer {player}, enter your move (1-9): \")) - 1\n",
        "            row, col = divmod(move, 3)\n",
        "            if 0 <= move < 9 and board[row][col] == \" \":\n",
        "                board[row][col] = player\n",
        "                return\n",
        "            else:\n",
        "                print(\"Invalid move. That position is already taken or out of range.\")\n",
        "        except ValueError:\n",
        "            print(\"Please enter a valid number between 1 and 9.\")"
      ]
    },
    {
      "cell_type": "markdown",
      "metadata": {
        "id": "T9vqoJHE0hu3"
      },
      "source": [
        "# Implements the AI's decision-making <br>process for its move.\n",
        "\n",
        "Uses the Gemini AI model to generate a move based on the current board state.\n",
        "\n",
        "If the AI's response is invalid, it selects a random available move."
      ]
    },
    {
      "cell_type": "code",
      "execution_count": 9,
      "metadata": {
        "id": "Blyglyea0hu4"
      },
      "outputs": [],
      "source": [
        "def get_ai_move(board):\n",
        "    \"\"\"Gets the AI's move using Gemini AI or falls back to a strategic move.\"\"\"\n",
        "    # First, check if AI can win in the next move\n",
        "    for i in range(9):\n",
        "        row, col = divmod(i, 3)\n",
        "        if board[row][col] == \" \":\n",
        "            board[row][col] = \"O\"\n",
        "            if is_winner(board, \"O\"):\n",
        "                print(f\"AI chooses move {i + 1}\")\n",
        "                return\n",
        "            board[row][col] = \" \"  # Undo the move\n",
        "\n",
        "    # Then, block player's winning move\n",
        "    for i in range(9):\n",
        "        row, col = divmod(i, 3)\n",
        "        if board[row][col] == \" \":\n",
        "            board[row][col] = \"X\"\n",
        "            if is_winner(board, \"X\"):\n",
        "                board[row][col] = \"O\"\n",
        "                print(f\"AI chooses move {i + 1}\")\n",
        "                return\n",
        "            board[row][col] = \" \"  # Undo the move\n",
        "\n",
        "    # Try to get a response from Gemini AI\n",
        "    board_str = \"\\n\".join([\" | \".join(row) for row in board])\n",
        "    prompt = f\"\"\"\n",
        "    You are playing Tic-Tac-Toe.\n",
        "    Choose an available move from 1-9 (respond with just the number).\n",
        "    Current board:\n",
        "    {board_str}\n",
        "    Board positions:\n",
        "    1 | 2 | 3\n",
        "    ---------\n",
        "    4 | 5 | 6\n",
        "    ---------\n",
        "    7 | 8 | 9\n",
        "    \"\"\"\n",
        "\n",
        "    try:\n",
        "        response = model.generate_content(prompt)\n",
        "        move = int(response.text.strip())\n",
        "        row, col = divmod(move - 1, 3)\n",
        "        if 0 <= move-1 < 9 and board[row][col] == \" \":\n",
        "            board[row][col] = \"O\"\n",
        "            print(f\"AI chooses move {move}\")\n",
        "            return\n",
        "    except:\n",
        "        pass\n",
        "\n",
        "    # Fallback strategy: prefer center, then corners, then sides\n",
        "    preferred_moves = [4, 0, 2, 6, 8, 1, 3, 5, 7]  # Center, corners, sides\n",
        "    for move in preferred_moves:\n",
        "        row, col = divmod(move, 3)\n",
        "        if board[row][col] == \" \":\n",
        "            board[row][col] = \"O\"\n",
        "            print(f\"code chooses move {move + 1}\")\n",
        "            return"
      ]
    },
    {
      "cell_type": "markdown",
      "metadata": {
        "id": "fgEI5v_t0hu4"
      },
      "source": [
        "# Contains the main game loop for playing <br>Tic-Tac-Toe against the AI.\n",
        "\n",
        "Initializes the game board and alternates turns between the player and the AI.\n",
        "\n",
        "Checks for a win or draw after each move and declares the result accordingly."
      ]
    },
    {
      "cell_type": "code",
      "execution_count": 10,
      "metadata": {
        "id": "3jVg0S3_0hu5"
      },
      "outputs": [],
      "source": [
        "def play_tic_tac_toe():\n",
        "    \"\"\"Main game loop for Tic-Tac-Toe against AI.\"\"\"\n",
        "    board = [[\" \" for _ in range(3)] for _ in range(3)]\n",
        "    current_player = \"X\"\n",
        "\n",
        "    print(\"\\nWelcome to Tic-Tac-Toe!\")\n",
        "    print(\"You are X, the AI is O.\")\n",
        "\n",
        "    while True:\n",
        "        print_board(board)\n",
        "\n",
        "        if current_player == \"X\":\n",
        "            get_player_input(board, current_player)\n",
        "        else:\n",
        "            get_ai_move(board)\n",
        "\n",
        "        if is_winner(board, current_player):\n",
        "            print_board(board)\n",
        "            print(f\"\\n{'You' if current_player == 'X' else 'AI'} win! Congratulations!\")\n",
        "            break\n",
        "\n",
        "        if is_draw(board):\n",
        "            print_board(board)\n",
        "            print(\"\\nIt's a draw! Well played!\")\n",
        "            break\n",
        "\n",
        "        current_player = \"O\" if current_player == \"X\" else \"X\""
      ]
    },
    {
      "cell_type": "markdown",
      "metadata": {
        "id": "dbIh8--Y0hu5"
      },
      "source": [
        "# Starts the Tic-Tac-Toe game by calling <br>the play_tic_tac_toe() function.\n",
        "\n",
        "Outputs the game progress and results to the console."
      ]
    },
    {
      "cell_type": "code",
      "execution_count": 11,
      "metadata": {
        "colab": {
          "base_uri": "https://localhost:8080/",
          "height": 1000
        },
        "id": "oCyklAOC0hu5",
        "outputId": "6888e765-59c8-4969-8f24-940806632035"
      },
      "outputs": [
        {
          "output_type": "stream",
          "name": "stdout",
          "text": [
            "\n",
            "Welcome to Tic-Tac-Toe!\n",
            "You are X, the AI is O.\n",
            "\n",
            "\n",
            "  |   |  \n",
            "---------\n",
            "  |   |  \n",
            "---------\n",
            "  |   |  \n",
            "\n",
            "Board positions:\n",
            "1 | 2 | 3\n",
            "---------\n",
            "4 | 5 | 6\n",
            "---------\n",
            "7 | 8 | 9\n",
            "\n",
            "Player X, enter your move (1-9): 1\n",
            "\n",
            "\n",
            "X |   |  \n",
            "---------\n",
            "  |   |  \n",
            "---------\n",
            "  |   |  \n",
            "AI chooses move 5\n",
            "\n",
            "\n",
            "X |   |  \n",
            "---------\n",
            "  | O |  \n",
            "---------\n",
            "  |   |  \n",
            "\n",
            "Board positions:\n",
            "1 | 2 | 3\n",
            "---------\n",
            "4 | 5 | 6\n",
            "---------\n",
            "7 | 8 | 9\n",
            "\n",
            "Player X, enter your move (1-9): 7\n",
            "\n",
            "\n",
            "X |   |  \n",
            "---------\n",
            "  | O |  \n",
            "---------\n",
            "X |   |  \n",
            "AI chooses move 4\n",
            "\n",
            "\n",
            "X |   |  \n",
            "---------\n",
            "O | O |  \n",
            "---------\n",
            "X |   |  \n",
            "\n",
            "Board positions:\n",
            "1 | 2 | 3\n",
            "---------\n",
            "4 | 5 | 6\n",
            "---------\n",
            "7 | 8 | 9\n",
            "\n",
            "Player X, enter your move (1-9): 6\n",
            "\n",
            "\n",
            "X |   |  \n",
            "---------\n",
            "O | O | X\n",
            "---------\n",
            "X |   |  \n",
            "AI chooses move 8\n",
            "\n",
            "\n",
            "X |   |  \n",
            "---------\n",
            "O | O | X\n",
            "---------\n",
            "X | O |  \n",
            "\n",
            "Board positions:\n",
            "1 | 2 | 3\n",
            "---------\n",
            "4 | 5 | 6\n",
            "---------\n",
            "7 | 8 | 9\n",
            "\n",
            "Player X, enter your move (1-9): 2\n",
            "\n",
            "\n",
            "X | X |  \n",
            "---------\n",
            "O | O | X\n",
            "---------\n",
            "X | O |  \n",
            "AI chooses move 3\n",
            "\n",
            "\n",
            "X | X | O\n",
            "---------\n",
            "O | O | X\n",
            "---------\n",
            "X | O |  \n",
            "\n",
            "Board positions:\n",
            "1 | 2 | 3\n",
            "---------\n",
            "4 | 5 | 6\n",
            "---------\n",
            "7 | 8 | 9\n",
            "\n",
            "Player X, enter your move (1-9): 9\n",
            "\n",
            "\n",
            "X | X | O\n",
            "---------\n",
            "O | O | X\n",
            "---------\n",
            "X | O | X\n",
            "\n",
            "It's a draw! Well played!\n"
          ]
        }
      ],
      "source": [
        "play_tic_tac_toe()"
      ]
    },
    {
      "cell_type": "code",
      "execution_count": null,
      "metadata": {
        "id": "yF1hEaCV0hu6"
      },
      "outputs": [],
      "source": []
    }
  ],
  "metadata": {
    "kernelspec": {
      "display_name": "Python 3",
      "language": "python",
      "name": "python3"
    },
    "language_info": {
      "codemirror_mode": {
        "name": "ipython",
        "version": 3
      },
      "file_extension": ".py",
      "mimetype": "text/x-python",
      "name": "python",
      "nbconvert_exporter": "python",
      "pygments_lexer": "ipython3",
      "version": "3.10.12"
    },
    "colab": {
      "provenance": [],
      "include_colab_link": true
    }
  },
  "nbformat": 4,
  "nbformat_minor": 0
}